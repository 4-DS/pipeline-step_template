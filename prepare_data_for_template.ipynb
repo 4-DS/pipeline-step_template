{
 "cells": [
  {
   "cell_type": "code",
   "execution_count": null,
   "id": "e6b1b9b6",
   "metadata": {
    "cellId": "z1pg0pvkfppap5pmdkrqa",
    "editable": true,
    "slideshow": {
     "slide_type": ""
    },
    "tags": []
   },
   "outputs": [],
   "source": [
    "%load_ext autoreload\n",
    "%autoreload 2"
   ]
  },
  {
   "cell_type": "code",
   "execution_count": null,
   "id": "f003d9bb",
   "metadata": {
    "cellId": "gy5977li0o58skjdsr85tg",
    "editable": true,
    "slideshow": {
     "slide_type": ""
    },
    "tags": []
   },
   "outputs": [],
   "source": [
    "# copy a test parquet\n",
    "import os\n",
    "import shutil\n",
    "\n",
    "os.environ[\"DSML_CURR_RUN_ID\"]=\"run-00-01-01-000000\"\n",
    "current_runid = os.getenv(\"DSML_CURR_RUN_ID\")"
   ]
  },
  {
   "cell_type": "code",
   "execution_count": null,
   "id": "44e013ff",
   "metadata": {
    "cellId": "4q975fjv1mj6i4snkfyhde",
    "editable": true,
    "slideshow": {
     "slide_type": ""
    },
    "tags": [
     "parameters"
    ]
   },
   "outputs": [],
   "source": [
    "# specify substep parameters for interactive run\n",
    "# this cell will be replaced during job run with the parameters from json within params subfolder\n",
    "substep_params={}"
   ]
  },
  {
   "cell_type": "code",
   "execution_count": null,
   "id": "3b3d8258-b84b-42f0-b3a0-d5dc5af69cbc",
   "metadata": {},
   "outputs": [],
   "source": [
    "# load pipeline and step parameters - do not edit\n",
    "from sinara.substep import get_pipeline_params, get_step_params\n",
    "pipeline_params = get_pipeline_params(pprint=True)\n",
    "step_params = get_step_params(pprint=True)"
   ]
  },
  {
   "cell_type": "code",
   "execution_count": null,
   "id": "81c2c252",
   "metadata": {
    "cellId": "h62pzpqd48t5ipm8umy985",
    "editable": true,
    "slideshow": {
     "slide_type": ""
    },
    "tags": [
     "interface"
    ]
   },
   "outputs": [],
   "source": [
    "from sinara.substep import NotebookSubstep, get_user, ENV_NAME, PIPELINE_NAME, ZONE_NAME, STEP_NAME, RUN_ID, ENTITY_NAME, ENTITY_PATH, SUBSTEP_NAME\n",
    "\n",
    "substep = NotebookSubstep(pipeline_params, step_params, substep_params)\n",
    "\n",
    "substep.interface(\n",
    "    \n",
    "    tmp_outputs = [\n",
    "        { ENTITY_NAME: \"testParquet\" },\n",
    "        { ENTITY_NAME: \"entityM\" },\n",
    "        { ENTITY_NAME: \"entityN\" }\n",
    "    ],\n",
    "   \n",
    "    custom_outputs = \n",
    "    [\n",
    "        { ENTITY_NAME: \"entityA\", ENTITY_PATH: f\"/data/home/{get_user()}/pipeline/zone/prev_step/{current_runid}/entityA\" },\n",
    "        { ENTITY_NAME: \"entityB\", ENTITY_PATH: f\"/data/home/{get_user()}/pipeline/zone/prev_step/{current_runid}/entityB\" },\n",
    "        { ENTITY_NAME: \"entityC\", ENTITY_PATH: f\"/data/home/{get_user()}/pipeline/zone/prev_step/{current_runid}/entityC\" },\n",
    "        { ENTITY_NAME: \"entityI\", ENTITY_PATH: f\"/data/preprod/other_pipeline/monthly_run/ext_step/{current_runid}/entityI\" },\n",
    "        { ENTITY_NAME: \"entityJ\", ENTITY_PATH: f\"/data/home/{get_user()}/other_pipeline2/zone0/ext_step2/{current_runid}/entityJ\" },\n",
    "    ]\n",
    ")\n",
    "\n",
    "substep.print_interface_info()"
   ]
  },
  {
   "cell_type": "code",
   "execution_count": null,
   "id": "e65b1f8a-5267-4d12-b265-ea9c796eee61",
   "metadata": {
    "tags": []
   },
   "outputs": [],
   "source": [
    "# create tmp outputs for the substep_full\n",
    "tmp_parquet_path = substep.tmp_outputs().testParquet\n",
    "entityM_path = substep.tmp_outputs().entityM\n",
    "\n",
    "!wget https://github.com/apache/parquet-testing/raw/master/data/alltypes_dictionary.parquet -O {tmp_parquet_path}/test.parquet\n",
    "!cp {tmp_parquet_path}/test.parquet {entityM_path}\n",
    "!cp {tmp_parquet_path}/test.parquet {substep.tmp_outputs().entityN}"
   ]
  },
  {
   "cell_type": "code",
   "execution_count": null,
   "id": "277a3d75-5fda-4842-bcd5-d0e2d9b1fc4a",
   "metadata": {
    "tags": []
   },
   "outputs": [],
   "source": [
    "from sinara.spark import SinaraSpark\n",
    "\n",
    "spark = SinaraSpark.run_session(0)\n",
    "SinaraSpark.ui_url()"
   ]
  },
  {
   "cell_type": "code",
   "execution_count": null,
   "id": "b4b9d203-d69a-402d-a225-fa4ae6334b24",
   "metadata": {
    "tags": []
   },
   "outputs": [],
   "source": [
    "# write entities for substep_full\n",
    "df = spark.read.parquet(tmp_parquet_path)\n",
    "\n",
    "outputs = substep.custom_outputs()\n",
    "df.write.parquet(outputs.entityA, mode='overwrite')\n",
    "df.write.parquet(outputs.entityB, mode='overwrite')\n",
    "df.write.parquet(outputs.entityC, mode='overwrite')\n",
    "df.write.parquet(outputs.entityI, mode='overwrite')\n",
    "df.write.parquet(outputs.entityJ, mode='overwrite')"
   ]
  },
  {
   "cell_type": "code",
   "execution_count": null,
   "id": "696db47c-a70d-41ec-84e0-bead715f7965",
   "metadata": {
    "tags": []
   },
   "outputs": [],
   "source": [
    "SinaraSpark.stop_session()"
   ]
  }
 ],
 "metadata": {
  "kernelspec": {
   "display_name": "cv",
   "language": "python",
   "name": "python3"
  },
  "language_info": {
   "codemirror_mode": {
    "name": "ipython",
    "version": 3
   },
   "file_extension": ".py",
   "mimetype": "text/x-python",
   "name": "python",
   "nbconvert_exporter": "python",
   "pygments_lexer": "ipython3",
   "version": "3.10.12"
  },
  "notebookId": "81896294-5c96-4bae-9524-776ba76667b7",
  "notebookPath": "step_template/Init_Data.ipynb"
 },
 "nbformat": 4,
 "nbformat_minor": 5
}
