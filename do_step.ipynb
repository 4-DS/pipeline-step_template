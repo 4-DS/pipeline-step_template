{
 "cells": [
  {
   "cell_type": "code",
   "execution_count": null,
   "id": "870a1090-f4ae-45a0-aa93-0960f5c6478d",
   "metadata": {
    "editable": true,
    "slideshow": {
     "slide_type": ""
    },
    "tags": []
   },
   "outputs": [],
   "source": [
    "%load_ext autoreload\n",
    "%autoreload 2"
   ]
  },
  {
   "cell_type": "code",
   "execution_count": null,
   "id": "453c78e8-6822-4123-bf9d-ed1ae9dd7bea",
   "metadata": {
    "editable": true,
    "slideshow": {
     "slide_type": ""
    },
    "tags": [
     "parameters"
    ]
   },
   "outputs": [],
   "source": [
    "# specify substep parameters for interactive run\n",
    "# this cell will be replaced during job run with the parameters from json within params subfolder\n",
    "substep_params={\n",
    "    \"param1\":\"None1\",\n",
    "    \"param2\":\"None2\"}"
   ]
  },
  {
   "cell_type": "code",
   "execution_count": null,
   "id": "50592002-8b5f-47bd-82a7-3489fd1f5b1c",
   "metadata": {
    "editable": false,
    "slideshow": {
     "slide_type": ""
    },
    "tags": []
   },
   "outputs": [],
   "source": [
    "# load pipeline and step parameters - do not edit\n",
    "from sinara.substep import get_pipeline_params, get_step_params\n",
    "pipeline_params = get_pipeline_params(pprint=True)\n",
    "step_params = get_step_params(pprint=True)"
   ]
  },
  {
   "cell_type": "code",
   "execution_count": null,
   "id": "f3818420-6085-43ea-b97e-578742794e1e",
   "metadata": {
    "editable": true,
    "slideshow": {
     "slide_type": ""
    },
    "tags": [
     "interface"
    ]
   },
   "outputs": [],
   "source": [
    "#3 define substep interface\n",
    "from sinara.substep import NotebookSubstep, ENV_NAME, PIPELINE_NAME, ZONE_NAME, STEP_NAME, RUN_ID, ENTITY_NAME, ENTITY_PATH, SUBSTEP_NAME\n",
    "\n",
    "substep = NotebookSubstep(pipeline_params, step_params, substep_params)\n",
    "\n",
    "substep.interface(\n",
    "   \n",
    "    inputs =\n",
    "    [\n",
    "        { STEP_NAME: \"prev_step\", ENTITY_NAME: \"entityA\" }, #, ZONE_NAME: \"zone\" },\n",
    "        { STEP_NAME: \"prev_step\", ENTITY_NAME: \"entityB\" },\n",
    "        { STEP_NAME: \"prev_step\", ENTITY_NAME: \"entityC\" },\n",
    "        { STEP_NAME: \"ext_step\", ENTITY_NAME: \"entityI\", ENV_NAME: \"prod2\", PIPELINE_NAME: \"other_pipeline\", ZONE_NAME: \"monthly_run\" },\n",
    "        { STEP_NAME: \"ext_step2\", ENTITY_NAME: \"entityJ\", PIPELINE_NAME: \"other_pipeline2\", RUN_ID: \"run-00-01-01-000000\" }\n",
    "    ],\n",
    "    outputs = \n",
    "    [\n",
    "        { ENTITY_NAME: \"entityF\" },\n",
    "        { ENTITY_NAME: \"entityG\" },\n",
    "        { ENTITY_NAME: \"entityH\" }\n",
    "    ],\n",
    "    custom_inputs =\n",
    "    [\n",
    "        { ENTITY_NAME: \"entityE\", ENTITY_PATH: \"/data/something/entityE\" },\n",
    "        { ENTITY_NAME: \"entityD\", ENTITY_PATH: \"/data/something/entityD\" }\n",
    "    ],\n",
    "    custom_outputs =\n",
    "    [\n",
    "        { ENTITY_NAME: \"entityK\", ENTITY_PATH: \"/data/something/entityK\" },\n",
    "        { ENTITY_NAME: \"entityL\", ENTITY_PATH: \"/data/something/entityL\" }\n",
    "    ],\n",
    "    tmp_inputs =\n",
    "    [\n",
    "        { ENTITY_NAME: \"entityM\" },\n",
    "        { ENTITY_NAME: \"entityN\" },\n",
    "    ],\n",
    "    tmp_outputs =\n",
    "    [\n",
    "        { ENTITY_NAME: \"entityF\" },\n",
    "        { ENTITY_NAME: \"entityG\" },\n",
    "        { ENTITY_NAME: \"entityH\" }\n",
    "    ]\n",
    ")\n",
    "\n",
    "substep.print_interface_info()\n",
    "\n",
    "substep.exit_in_visualize_mode()"
   ]
  },
  {
   "cell_type": "code",
   "execution_count": null,
   "id": "55e950c3-3151-4daf-9b98-83d3aebe216d",
   "metadata": {
    "tags": []
   },
   "outputs": [],
   "source": [
    "#4 run spark\n",
    "from sinara.spark import SinaraSpark\n",
    "\n",
    "spark = SinaraSpark.run_session(0)\n",
    "SinaraSpark.ui_url()"
   ]
  },
  {
   "cell_type": "code",
   "execution_count": null,
   "id": "70b2d9b3-051c-424c-beec-9da8f177b4ed",
   "metadata": {
    "tags": []
   },
   "outputs": [],
   "source": [
    "#5 read inputs \n",
    "prev_step_inputs = substep.inputs(step_name=\"prev_step\")\n",
    "\n",
    "dfA = spark.read.parquet(prev_step_inputs.entityA).pandas_api()\n",
    "dfB = spark.read.parquet(prev_step_inputs.entityB).pandas_api()\n",
    "dfC = spark.read.parquet(prev_step_inputs.entityC).pandas_api()"
   ]
  },
  {
   "cell_type": "code",
   "execution_count": null,
   "id": "04f8c516-079f-4473-8564-1cf66344872c",
   "metadata": {
    "tags": []
   },
   "outputs": [],
   "source": [
    "#6 make something to create artifacts\n",
    "\n",
    "dfF = dfA.to_spark()\n",
    "dfG = dfB.to_spark()\n",
    "dfH = dfC.to_spark()"
   ]
  },
  {
   "cell_type": "code",
   "execution_count": null,
   "id": "47c68c69-46d1-48d0-a239-fac8bf36c6fa",
   "metadata": {
    "tags": []
   },
   "outputs": [],
   "source": [
    "#7 write outputs\n",
    "outputs = substep.outputs()\n",
    "\n",
    "dfF.write.parquet(outputs.entityF, mode='overwrite')\n",
    "dfG.write.parquet(outputs.entityG, mode='overwrite')\n",
    "dfH.write.parquet(outputs.entityH, mode='overwrite')\n",
    "\n",
    "custom_outputs = substep.custom_outputs()\n",
    "custom_inputs = substep.custom_inputs()\n",
    "tmp_inputs = substep.tmp_inputs()\n",
    "tmp_outputs = substep.tmp_outputs()"
   ]
  },
  {
   "cell_type": "code",
   "execution_count": null,
   "id": "82ef2430-57f2-42f4-a435-f50e1edd2c0b",
   "metadata": {
    "tags": []
   },
   "outputs": [],
   "source": [
    "#8 stop spark\n",
    "SinaraSpark.stop_session()"
   ]
  }
 ],
 "metadata": {
  "kernelspec": {
   "display_name": "cv",
   "language": "python",
   "name": "python3"
  },
  "language_info": {
   "codemirror_mode": {
    "name": "ipython",
    "version": 3
   },
   "file_extension": ".py",
   "mimetype": "text/x-python",
   "name": "python",
   "nbconvert_exporter": "python",
   "pygments_lexer": "ipython3",
   "version": "3.10.12"
  }
 },
 "nbformat": 4,
 "nbformat_minor": 5
}
